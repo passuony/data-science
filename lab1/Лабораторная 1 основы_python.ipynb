{
 "cells": [
  {
   "cell_type": "markdown",
   "metadata": {},
   "source": [
    "Задача 1: Подсчет гласных букв"
   ]
  },
  {
   "cell_type": "code",
   "execution_count": null,
   "metadata": {},
   "outputs": [],
   "source": [
    "def count_vowels(s):\n",
    "    vowels = 'aeiouAEIOU'\n",
    "    return sum(1 for char in s if char in vowels)\n",
    "\n",
    "# Тесты\n",
    "print(count_vowels(\"Hello World\"))  \n",
    "print(count_vowels(\"Python\"))      \n",
    "print(count_vowels(\"\"))             \n",
    "print(count_vowels(\"AEIOU\"))"
   ]
  },
  {
   "cell_type": "markdown",
   "metadata": {},
   "source": [
    "Задача 2: Проверка на уникальность символов"
   ]
  },
  {
   "cell_type": "code",
   "execution_count": null,
   "metadata": {},
   "outputs": [],
   "source": [
    "def has_unique_chars(s):\n",
    "    return len(s) == len(set(s))\n",
    "\n",
    "# Тесты\n",
    "print(has_unique_chars(\"abcdef\")) \n",
    "print(has_unique_chars(\"aabbcc\"))  \n",
    "print(has_unique_chars(\"\"))         \n",
    "print(has_unique_chars(\"Python\"))   \n"
   ]
  },
  {
   "cell_type": "markdown",
   "metadata": {},
   "source": [
    "Задача 3: Подсчет битов равных 1"
   ]
  },
  {
   "cell_type": "code",
   "execution_count": null,
   "metadata": {},
   "outputs": [],
   "source": [
    "def count_bits(n):\n",
    "    return bin(n).count('1')\n",
    "\n",
    "# Тесты\n",
    "print(count_bits(5))   \n",
    "print(count_bits(15)) \n",
    "print(count_bits(0))   "
   ]
  },
  {
   "cell_type": "markdown",
   "metadata": {},
   "source": [
    "Задача 4: Количество перемножений для одной цифры"
   ]
  },
  {
   "cell_type": "code",
   "execution_count": null,
   "metadata": {},
   "outputs": [],
   "source": [
    "def magic(n):\n",
    "    count = 0\n",
    "    while n >= 10:\n",
    "        product = 1\n",
    "        while n > 0:\n",
    "            product *= n % 10\n",
    "            n //= 10\n",
    "        n = product\n",
    "        count += 1\n",
    "    return count\n",
    "\n",
    "# Тесты\n",
    "print(magic(39))   \n",
    "print(magic(4))    \n",
    "print(magic(999))  \n"
   ]
  },
  {
   "cell_type": "markdown",
   "metadata": {},
   "source": [
    "Задача 5: Среднеквадратическое отклонение"
   ]
  },
  {
   "cell_type": "code",
   "execution_count": null,
   "metadata": {},
   "outputs": [],
   "source": [
    "def mse(pred, true):\n",
    "    pred = np.array(pred)\n",
    "    true = np.array(true)\n",
    "    return np.sqrt(np.mean((pred - true) ** 2))\n",
    "\n",
    "# Тесты\n",
    "print(mse([1, 2, 3], [1, 2, 3]))    \n",
    "print(mse([1, 2, 3], [4, 5, 6]))   \n",
    "print(mse([10, 20, 30], [10, 25, 35]))  \n"
   ]
  },
  {
   "cell_type": "markdown",
   "metadata": {},
   "source": [
    "Задача 6: Разложение на простые множители"
   ]
  },
  {
   "cell_type": "code",
   "execution_count": null,
   "metadata": {},
   "outputs": [],
   "source": [
    "def prime_factors(n):\n",
    "    i = 2\n",
    "    factors = {}\n",
    "    while i * i <= n:\n",
    "        while (n % i) == 0:\n",
    "            if i in factors:\n",
    "                factors[i] += 1\n",
    "            else:\n",
    "                factors[i] = 1\n",
    "            n //= i\n",
    "        i += 1\n",
    "    if n > 1:\n",
    "        factors[n] = 1\n",
    "    \n",
    "    result = ''.join(f'({k}' + (f'**{v}' if v > 1 else '') + ')' for k, v in factors.items())\n",
    "    return result\n",
    "\n",
    "# Тесты\n",
    "print(prime_factors(86240))  \n"
   ]
  },
  {
   "cell_type": "markdown",
   "metadata": {},
   "source": [
    "Задача 7: Построение пирамиды"
   ]
  },
  {
   "cell_type": "code",
   "execution_count": null,
   "metadata": {},
   "outputs": [],
   "source": [
    "def pyramid(number):\n",
    "    k = 0\n",
    "    total = 0\n",
    "    while total < number:\n",
    "        k += 1\n",
    "        total += k ** 2\n",
    "    return k if total == number else \"It is impossible\"\n",
    "\n",
    "# Тесты\n",
    "print(pyramid(30))   \n",
    "print(pyramid(14))   \n"
   ]
  },
  {
   "cell_type": "markdown",
   "metadata": {},
   "source": [
    "Задача 8: Проверка сбалансированности числа"
   ]
  },
  {
   "cell_type": "code",
   "execution_count": null,
   "metadata": {},
   "outputs": [],
   "source": [
    "def is_balanced(n):\n",
    "    s = str(n)\n",
    "    length = len(s)\n",
    "    if length % 2 == 0:\n",
    "        left_sum = sum(int(digit) for digit in s[:length//2])\n",
    "        right_sum = sum(int(digit) for digit in s[length//2:])\n",
    "    else:\n",
    "        left_sum = sum(int(digit) for digit in s[:length//2])\n",
    "        right_sum = sum(int(digit) for digit in s[length//2 + 1:])\n",
    "    \n",
    "    return left_sum == right_sum\n",
    "\n",
    "# Тесты\n",
    "print(is_balanced(123321))  \n",
    "print(is_balanced(123421))  \n"
   ]
  }
 ],
 "metadata": {
  "kernelspec": {
   "display_name": "Python 3",
   "language": "python",
   "name": "python3"
  },
  "language_info": {
   "codemirror_mode": {
    "name": "ipython",
    "version": 3
   },
   "file_extension": ".py",
   "mimetype": "text/x-python",
   "name": "python",
   "nbconvert_exporter": "python",
   "pygments_lexer": "ipython3",
   "version": "3.11.5"
  }
 },
 "nbformat": 4,
 "nbformat_minor": 2
}

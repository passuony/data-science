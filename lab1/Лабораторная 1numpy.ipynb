{
 "cells": [
  {
   "cell_type": "markdown",
   "metadata": {},
   "source": [
    "Импорт библиотек"
   ]
  },
  {
   "cell_type": "code",
   "execution_count": 1,
   "metadata": {},
   "outputs": [],
   "source": [
    "import numpy as np\n",
    "import matplotlib.pyplot as plt"
   ]
  },
  {
   "cell_type": "markdown",
   "metadata": {},
   "source": [
    "Задача 1: Сумма произведений матриц на векторы"
   ]
  },
  {
   "cell_type": "code",
   "execution_count": null,
   "metadata": {},
   "outputs": [],
   "source": [
    "def sum_prod(X, V):\n",
    "    '''\n",
    "    X - матрицы (p, p)\n",
    "    V - векторы (p, 1)\n",
    "    Гарантируется, что len(X) == len(V)\n",
    "    '''\n",
    "    result = np.zeros((X[0].shape[0], 1))\n",
    "    for x, v in zip(X, V):\n",
    "        result += np.dot(x, v)\n",
    "    return result\n",
    "\n",
    "# Тесты\n",
    "X = [\n",
    "    np.array([[1, 2], [3, 4]]), \n",
    "    np.array([[5, 6], [7, 8]])\n",
    "]\n",
    "V = [\n",
    "    np.array([[1], [1]]), \n",
    "    np.array([[2], [2]])\n",
    "]\n",
    "print(\"Сумма произведений:\", sum_prod(X, V))  \n"
   ]
  },
  {
   "cell_type": "markdown",
   "metadata": {},
   "source": [
    "Задача 2: Бинаризация матрицы"
   ]
  },
  {
   "cell_type": "code",
   "execution_count": null,
   "metadata": {},
   "outputs": [],
   "source": [
    "def binarize(M, threshold=0.5):\n",
    "    return (M > threshold).astype(int)\n",
    "\n",
    "# Тесты\n",
    "M = np.array([[0.1, 0.6], [0.4, 0.8]])\n",
    "print(\"Бинаризованная матрица:\\n\", binarize(M, threshold=0.5))  \n"
   ]
  },
  {
   "cell_type": "markdown",
   "metadata": {},
   "source": [
    "Задача 3: Уникальные элементы строк и столбцов"
   ]
  },
  {
   "cell_type": "code",
   "execution_count": null,
   "metadata": {},
   "outputs": [],
   "source": [
    "def unique_rows(mat):\n",
    "    return np.array([np.unique(row) for row in mat])\n",
    "\n",
    "def unique_columns(mat):\n",
    "    return np.array([np.unique(mat[:, col]) for col in range(mat.shape[1])])\n",
    "\n",
    "# Тесты\n",
    "mat = np.array([[1, 2, 2], [3, 2, 3], [1, 3, 1]])\n",
    "print(\"Уникальные элементы строк:\\n\", unique_rows(mat))       \n",
    "print(\"Уникальные элементы столбцов:\\n\", unique_columns(mat)) \n"
   ]
  },
  {
   "cell_type": "markdown",
   "metadata": {},
   "source": [
    "Задача 4: Генерация матрицы и гистограммы"
   ]
  },
  {
   "cell_type": "code",
   "execution_count": null,
   "metadata": {},
   "outputs": [],
   "source": [
    "def random_matrix_statistics(m, n):\n",
    "    matrix = np.random.normal(size=(m, n))\n",
    "    means = np.mean(matrix, axis=1)\n",
    "    variances = np.var(matrix, axis=1)\n",
    "\n",
    "    for i in range(m):\n",
    "        plt.hist(matrix[i], bins=10, alpha=0.5, label=f'Row {i}')\n",
    "    plt.legend()\n",
    "    plt.title('Row Histograms')\n",
    "    plt.show()\n",
    "\n",
    "    for j in range(n):\n",
    "        plt.hist(matrix[:, j], bins=10, alpha=0.5, label=f'Column {j}')\n",
    "    plt.legend()\n",
    "    plt.title('Column Histograms')\n",
    "    plt.show()\n",
    "\n",
    "    return means, variances\n",
    "\n",
    "# Тесты\n",
    "means, variances = random_matrix_statistics(3, 4)\n",
    "print(\"Математическое ожидание:\\n\", means)  \n",
    "print(\"Дисперсия:\\n\", variances)              \n"
   ]
  },
  {
   "cell_type": "markdown",
   "metadata": {},
   "source": [
    "Задача 5: Заполнение матрицы в шахматном порядке"
   ]
  },
  {
   "cell_type": "code",
   "execution_count": null,
   "metadata": {},
   "outputs": [],
   "source": [
    "def chess(m, n, a, b):\n",
    "    matrix = np.empty((m, n))\n",
    "    matrix[::2, ::2] = a\n",
    "    matrix[1::2, 1::2] = a\n",
    "    matrix[::2, 1::2] = b\n",
    "    matrix[1::2, ::2] = b\n",
    "    return matrix\n",
    "\n",
    "# Тесты\n",
    "print(\"Матрица в шахматном порядке:\\n\", chess(4, 4, 1, 0))  \n"
   ]
  },
  {
   "cell_type": "markdown",
   "metadata": {},
   "source": [
    "Задача 6: Рисование прямоугольника и овала"
   ]
  },
  {
   "cell_type": "code",
   "execution_count": null,
   "metadata": {},
   "outputs": [],
   "source": [
    "def draw_rectangle(a, b, m, n, rectangle_color, background_color):\n",
    "    image = np.zeros((m, n, 3), dtype=np.uint8)\n",
    "    image[:] = background_color\n",
    "    image[:b, :a] = rectangle_color\n",
    "    plt.imshow(image)\n",
    "    plt.axis('off')\n",
    "    plt.show()\n",
    "\n",
    "def draw_ellipse(a, b, m, n, ellipse_color, background_color):\n",
    "    image = np.zeros((m, n, 3), dtype=np.uint8)\n",
    "    image[:] = background_color\n",
    "    y, x = np.ogrid[:m, :n]\n",
    "    mask = ((x - n//2)**2 / a**2 + (y - m//2)**2 / b**2) <= 1\n",
    "    image[mask] = ellipse_color\n",
    "    plt.imshow(image)\n",
    "    plt.axis('off')\n",
    "    plt.show()\n",
    "\n",
    "# Тесты\n",
    "draw_rectangle(100, 50, 200, 150, (255, 0, 0), (255, 255, 255))\n",
    "draw_ellipse(50, 30, 200, 150, (0, 255, 0), (255, 255, 255))\n"
   ]
  },
  {
   "cell_type": "markdown",
   "metadata": {},
   "source": [
    "Задача 7: Анализ временного ряда"
   ]
  },
  {
   "cell_type": "code",
   "execution_count": null,
   "metadata": {},
   "outputs": [],
   "source": [
    "def time_series_analysis(series, p):\n",
    "    mean = np.mean(series)\n",
    "    variance = np.var(series)\n",
    "    std_dev = np.std(series)\n",
    "    local_maxima = (series[:-2] < series[1:-1]) & (series[1:-1] > series[2:])\n",
    "    local_minima = (series[:-2] > series[1:-1]) & (series[1:-1] < series[2:])\n",
    "    \n",
    "    moving_average = np.convolve(series, np.ones(p)/p, mode='valid')\n",
    "\n",
    "    return {\n",
    "        'mean': mean,\n",
    "        'variance': variance,\n",
    "        'std_dev': std_dev,\n",
    "        'local_maxima': series[1:-1][local_maxima],\n",
    "        'local_minima': series[1:-1][local_minima],\n",
    "        'moving_average': moving_average\n",
    "    }\n",
    "\n",
    "# Тесты\n",
    "series = np.array([1, 3, 2, 5, 4, 6, 3])\n",
    "analysis = time_series_analysis(series, 3)\n",
    "print(\"Анализ временного ряда:\", analysis)\n"
   ]
  },
  {
   "cell_type": "markdown",
   "metadata": {},
   "source": [
    "Задача 8: One-hot encoding"
   ]
  },
  {
   "cell_type": "code",
   "execution_count": null,
   "metadata": {},
   "outputs": [],
   "source": [
    "def one_hot_encoding(labels):\n",
    "    unique_classes = np.unique(labels)\n",
    "    return np.eye(len(unique_classes))[labels]\n",
    "\n",
    "# Тесты\n",
    "labels = np.array([0, 2, 3, 0])\n",
    "print(\"One-hot encoding:\\n\", one_hot_encoding(labels))  \n"
   ]
  }
 ],
 "metadata": {
  "kernelspec": {
   "display_name": "Python 3",
   "language": "python",
   "name": "python3"
  },
  "language_info": {
   "codemirror_mode": {
    "name": "ipython",
    "version": 3
   },
   "file_extension": ".py",
   "mimetype": "text/x-python",
   "name": "python",
   "nbconvert_exporter": "python",
   "pygments_lexer": "ipython3",
   "version": "3.11.5"
  }
 },
 "nbformat": 4,
 "nbformat_minor": 2
}

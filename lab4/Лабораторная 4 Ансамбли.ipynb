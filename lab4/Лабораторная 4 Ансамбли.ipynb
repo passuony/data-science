{
 "cells": [
  {
   "cell_type": "code",
   "execution_count": 1,
   "metadata": {},
   "outputs": [],
   "source": [
    "from sklearn.ensemble import RandomForestClassifier, GradientBoostingClassifier\n",
    "from sklearn.neural_network import MLPClassifier\n",
    "\n",
    "from sklearn.metrics import roc_auc_score, precision_score, recall_score, roc_curve, accuracy_score\n",
    "\n",
    "from sklearn.model_selection import train_test_split\n",
    "\n",
    "import matplotlib.pyplot as plt\n",
    "import pandas as pd\n",
    "import numpy as np"
   ]
  },
  {
   "cell_type": "code",
   "execution_count": 2,
   "metadata": {},
   "outputs": [],
   "source": [
    "data = pd.read_csv('german.csv', sep=';')\n",
    "print(data.head())\n",
    "\n",
    "X = data.iloc[:, 1:].to_numpy()\n",
    "y = data.iloc[:, 0].to_numpy()\n",
    "\n",
    "X_train, X_test, y_train, y_test = train_test_split(X, y, test_size=0.2, random_state=42)"
   ]
  },
  {
   "cell_type": "code",
   "execution_count": 3,
   "metadata": {},
   "outputs": [],
   "source": [
    "plt.hist(y_train, bins=2, edgecolor='k')\n",
    "plt.xticks([0, 1])\n",
    "plt.xlabel('Class (0: Non-Creditworthy, 1: Creditworthy)')\n",
    "plt.ylabel('Count')\n",
    "plt.title('Distribution of Classes in Training Data')\n",
    "plt.show()"
   ]
  },
  {
   "cell_type": "code",
   "execution_count": 4,
   "metadata": {},
   "outputs": [],
   "source": [
    "rf_model = RandomForestClassifier(n_estimators=200, max_depth=8, min_samples_split=5, min_samples_leaf=2, random_state=42)\n",
    "rf_model.fit(X_train, y_train)\n",
    "rf_pred = rf_model.predict(X_test)\n",
    "rf_prob = rf_model.predict_proba(X_test)[:, 1]\n",
    "rf_roc_auc = roc_auc_score(y_test, rf_prob)\n",
    "\n",
    "print(\"\\nRandom Forest метрики:\")\n",
    "print(f\"ROC AUC: {rf_roc_auc:.2f}\")\n",
    "print(f\"Accuracy: {accuracy_score(y_test, rf_pred):.2f}\")\n",
    "print(f\"Precision: {precision_score(y_test, rf_pred):.2f}\")\n",
    "print(f\"Recall: {recall_score(y_test, rf_pred):.2f}\")\n",
    "\n",
    "gb_model = GradientBoostingClassifier(n_estimators=200, learning_rate=0.05, max_depth=4, min_samples_split=5, random_state=42)\n",
    "gb_model.fit(X_train, y_train)\n",
    "gb_pred = gb_model.predict(X_test)\n",
    "gb_prob = gb_model.predict_proba(X_test)[:, 1]\n",
    "gb_roc_auc = roc_auc_score(y_test, gb_prob)\n",
    "\n",
    "print(\"\\nGradient Boosting метрики:\")\n",
    "print(f\"ROC AUC: {gb_roc_auc:.2f}\")\n",
    "print(f\"Accuracy: {accuracy_score(y_test, gb_pred):.2f}\")\n",
    "print(f\"Precision: {precision_score(y_test, gb_pred):.2f}\")\n",
    "print(f\"Recall: {recall_score(y_test, gb_pred):.2f}\")"
   ]
  },
  {
   "cell_type": "code",
   "execution_count": null,
   "metadata": {},
   "outputs": [],
   "source": [
    "# Оптимизированный MLP (Neural Network)\n",
    "mlp_model = MLPClassifier(hidden_layer_sizes=(64, 32), alpha=0.0001, max_iter=1000, random_state=42)\n",
    "mlp_model.fit(X_train, y_train)\n",
    "mlp_pred = mlp_model.predict(X_test)\n",
    "mlp_prob = mlp_model.predict_proba(X_test)[:, 1]\n",
    "mlp_roc_auc = roc_auc_score(y_test, mlp_prob)\n",
    "\n",
    "print(\"\\nMLP (Neural Network) метрики:\")\n",
    "print(f\"ROC AUC: {mlp_roc_auc:.2f}\")\n",
    "print(f\"Accuracy: {accuracy_score(y_test, mlp_pred):.2f}\")\n",
    "print(f\"Precision: {precision_score(y_test, mlp_pred):.2f}\")\n",
    "print(f\"Recall: {recall_score(y_test, mlp_pred):.2f}\")"
   ]
  }
 ],
 "metadata": {
  "kernelspec": {
   "display_name": "Python 3",
   "language": "python",
   "name": "python3"
  },
  "language_info": {
   "codemirror_mode": {
    "name": "ipython",
    "version": 3
   },
   "file_extension": ".py",
   "mimetype": "text/x-python",
   "name": "python",
   "nbconvert_exporter": "python",
   "pygments_lexer": "ipython3",
   "version": "3.11.5"
  }
 },
 "nbformat": 4,
 "nbformat_minor": 2
}
